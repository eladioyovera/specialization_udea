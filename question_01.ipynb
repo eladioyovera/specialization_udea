{
 "cells": [
  {
   "cell_type": "markdown",
   "metadata": {},
   "source": [
    "### **EJERCICIO 1** (50 pts)\n",
    "\n",
    "Escriba una clase Pedido que pueda ser usada para gestionar la información de los pedidos realizados a una pastelería (o carnicería o tienda de ropa o empresa que ud desee). Evite usar módulos como numpy, pandas o cualquier otro.\n",
    "Rubrica:\n",
    "\n",
    "1. Generación de la clase que funcione correctamente con al menos 2 métodos y 2 atributos. 30 pts.\n",
    "2. Comentarios y documentación que sirva para quien deba usar la clase. 5 pts.\n",
    "3. Pertinencia de la clase en el ámbito, ¿Por qué será útil esta herramienta y cómo ayudará a mejorar el negocio? esta será entregada en una celda de texto. 10 pts.\n",
    "4. ¿Cree que se pueda construir una clase hija que ayude al proceso? Si sí constrúyala, sino, argumente por qué en una célda de código. 5 pts.\n"
   ]
  },
  {
   "cell_type": "markdown",
   "metadata": {},
   "source": [
    "### Solución Ejercicio 01"
   ]
  },
  {
   "cell_type": "markdown",
   "metadata": {},
   "source": [
    "##### 1. Generación de Clase "
   ]
  },
  {
   "cell_type": "code",
   "execution_count": 23,
   "metadata": {},
   "outputs": [],
   "source": [
    "class Pedido:\n",
    "  \"\"\"\n",
    "  Clase para gestionar la información de los pedidos realizados a una empresa.\n",
    "\n",
    "  Atributos:\n",
    "    customer: Nombre del cliente que realiza el pedido.\n",
    "    products: Lista de productos con sus cantidades.\n",
    "\n",
    "  Métodos:\n",
    "    __init__(self, customer, products): Inicializa el pedido con los datos del cliente y los productos.\n",
    "    show_resumen(self): Muestra un resumen del pedido con el nombre del cliente, los productos y el precio total.\n",
    "    calculate_total_price(self, price): Calcula el precio total del pedido a partir de una lista de precios.\n",
    "\n",
    "  \"\"\"\n",
    "\n",
    "  def __init__(self, customer, products):\n",
    "    \"\"\"\n",
    "    Inicializa el pedido con los datos del cliente y los productos.\n",
    "\n",
    "    Parámetros:\n",
    "      customer: Nombre del cliente que realiza el pedido.\n",
    "      products: Lista de productos con sus cantidades.\n",
    "    \"\"\"\n",
    "    self.customer = customer\n",
    "    self.products = products\n",
    "  def show_resumen(self):\n",
    "    \"\"\"\n",
    "    Muestra un resumen del pedido con el nombre del cliente, los productos y el precio total.\n",
    "    \"\"\"\n",
    "    print(f\"**Pedido para {self.customer}**\")\n",
    "    for product, quantity in self.products:\n",
    "      print(f\"- {product}: {quantity}\")\n",
    "    print(f\"Precio total: {self.calculate_total_price(price)}\")\n",
    "\n",
    "  def calculate_total_price(self, price):\n",
    "    \"\"\"\n",
    "    Calcula el precio total del pedido a partir de una lista de precios.\n",
    "\n",
    "    Parámetros:\n",
    "      price: Diccionario que mapea los nombres de los productos con sus precios.\n",
    "\n",
    "    Retorno:\n",
    "      El precio total del pedido.\n",
    "    \"\"\"\n",
    "    total_price = 0\n",
    "    for product, quantity in self.products:\n",
    "      total_price += price[product] * quantity\n",
    "    return total_price\n",
    "\n",
    "# Lista de precios\n",
    "price = {\n",
    "  \"Pan de chocolate\": 2.50,\n",
    "  \"Tarta de manzana\": 10.00,\n",
    "  \"Pastel de chocolate\": 25.00,\n",
    "  \"Cupcakes\": 1.50,\n",
    "}\n"
   ]
  },
  {
   "cell_type": "code",
   "execution_count": 27,
   "metadata": {},
   "outputs": [
    {
     "name": "stdout",
     "output_type": "stream",
     "text": [
      "**Pedido para Eladio Yovera**\n",
      "- Pan de chocolate: 2\n",
      "- Tarta de manzana: 1\n",
      "Precio total: 15.0\n"
     ]
    }
   ],
   "source": [
    "\n",
    "# Ejemplo de uso\n",
    "customer = \"Eladio Yovera\"\n",
    "products = [(\"Pan de chocolate\", 2), (\"Tarta de manzana\", 1)]\n",
    "\n",
    "pedido = Pedido(customer, products)\n",
    "\n",
    "# Mostramos un resumen del pedido con el precio total\n",
    "pedido.show_resumen()"
   ]
  },
  {
   "cell_type": "markdown",
   "metadata": {},
   "source": [
    "##### 3. ¿Por qué será útil esta herramienta y cómo ayudará a mejorar el negocio?"
   ]
  },
  {
   "cell_type": "markdown",
   "metadata": {},
   "source": [
    "La herramienta será util en estos tres puntos principales:\n",
    "\n",
    "a. *Organizar la información de los pedidos:* Permite almacenar y acceder a la información de los pedidos de forma organizada, facilitando la búsqueda y el seguimiento de los mismos.\n",
    "\n",
    "b. *Mejorar la gestión del negocio:* Ayuda a tener una mejor visión del volumen de pedidos, los productos más demandados y los clientes más activos.\n",
    "\n",
    "c. *Agilizar el proceso de atención al cliente:* Permite acceder rápidamente a la información de un pedido específico, facilitando la respuesta a las consultas de los clientes.\n"
   ]
  },
  {
   "cell_type": "markdown",
   "metadata": {},
   "source": [
    "#### 4. ¿Cree que se pueda construir una clase hija que ayude al proceso? Si sí constrúyala, sino, argumente por qué en una célda de código."
   ]
  },
  {
   "cell_type": "markdown",
   "metadata": {},
   "source": [
    "Consideramos que si se puede construir una clase hija que herede de la clase Pedido, dado que permitiría añadir funcionalidades específicas para el tipo de negocio. A continuación, se va a crear una clase hija para una pastelería, en el cuál podría tener atributos como el tipo de pastel, el sabor, la fecha de entrega y la decoración."
   ]
  },
  {
   "cell_type": "code",
   "execution_count": 28,
   "metadata": {},
   "outputs": [],
   "source": [
    "class PedidoPasteleria(Pedido):\n",
    "  \"\"\"\n",
    "  Clase para gestionar la información de los pedidos realizados a una pastelería.\n",
    "\n",
    "  Atributos:\n",
    "    type_cake: Tipo de pastel del pedido (ej. chocolate, vainilla, fresa).\n",
    "    flavor: Sabor del pastel (ej. chocolate, vainilla, limón).\n",
    "    delivery_date: Fecha de entrega del pedido.\n",
    "    decoration: Decoración del pastel (ej. básica, con fondant, con flores).\n",
    "\n",
    "  Métodos:\n",
    "    __init__(self, cliente, productos, type_cake, flavor, delivery_date, decoration): Inicializa el pedido con los datos del cliente, los productos, el tipo de pastel, el sabor, la fecha de entrega y la decoración.\n",
    "    show_resumen(self): Muestra un resumen del pedido con el nombre del cliente, los productos, el tipo de pastel, el sabor, la fecha de entrega y la decoración.\n",
    "    calculate_total_price(self, price): Calcula el precio total del pedido a partir de una lista de precios, considerando el tipo de pastel, el sabor y la decoración.\n",
    "\n",
    "  \"\"\"\n",
    "\n",
    "  def __init__(self, customer, products, type_cake, flavor, delivery_date, decoration):\n",
    "    super().__init__(customer, products)\n",
    "    self.type_cake = type_cake\n",
    "    self.flavor = flavor\n",
    "    self.delivery_date = delivery_date\n",
    "    self.decoration = decoration\n",
    "\n",
    "  def show_resumen(self):\n",
    "    super().show_resumen()\n",
    "    print(f\"Tipo de pastel: {self.type_cake}\")\n",
    "    print(f\"Sabor: {self.flavor}\")\n",
    "    print(f\"Fecha de entrega: {self.delivery_date}\")\n",
    "    print(f\"Decoración: {self.decoration}\")\n",
    "\n",
    "  def calculate_total_price(self, price):\n",
    "    \"\"\"\n",
    "    Calcula el precio total del pedido a partir de una lista de precios, considerando el tipo de pastel, el sabor y la decoración.\n",
    "\n",
    "    Parámetros:\n",
    "      precios: Diccionario que mapea los nombres de los productos con sus precios.\n",
    "\n",
    "    Retorno:\n",
    "      El precio total del pedido.\n",
    "    \"\"\"\n",
    "    total_price = super().calculate_total_price(price)\n",
    "\n",
    "    # Se agrega un precio adicional por el tipo de pastel, sabor y decoración\n",
    "    if self.type_cake == \"Tres leches\":\n",
    "      total_price += 5.00\n",
    "    if self.flavor == \"Chocolate\":\n",
    "      total_price += 2.00\n",
    "    if self.decoration == \"Con fondant\":\n",
    "      total_price += 10.00\n",
    "\n",
    "    return total_price\n"
   ]
  },
  {
   "cell_type": "code",
   "execution_count": 32,
   "metadata": {},
   "outputs": [
    {
     "name": "stdout",
     "output_type": "stream",
     "text": [
      "**Pedido para Juan Pérez**\n",
      "- Pastel de chocolate: 1\n",
      "- Cupcakes: 6\n",
      "Precio total: 41.0\n",
      "Tipo de pastel: Tres leches\n",
      "Sabor: Chocolate\n",
      "Fecha de entrega: 2024-02-10\n",
      "Decoración: Con Granizado\n"
     ]
    }
   ],
   "source": [
    "# Ejemplo de uso\n",
    "customer = \"Juan Pérez\"\n",
    "products = [(\"Pastel de chocolate\", 1), (\"Cupcakes\", 6)]\n",
    "type_cake = \"Tres leches\"\n",
    "flavor = \"Chocolate\"\n",
    "delivery_date = \"2024-02-10\"\n",
    "decoration = \"Con Granizado\"\n",
    "\n",
    "pedido_pasteleria = PedidoPasteleria(customer, products, type_cake, flavor, delivery_date, decoration)\n",
    "\n",
    "# Mostramos un resumen del pedido con el precio total\n",
    "pedido_pasteleria.show_resumen()"
   ]
  }
 ],
 "metadata": {
  "kernelspec": {
   "display_name": "env_taller_01",
   "language": "python",
   "name": "python3"
  },
  "language_info": {
   "codemirror_mode": {
    "name": "ipython",
    "version": 3
   },
   "file_extension": ".py",
   "mimetype": "text/x-python",
   "name": "python",
   "nbconvert_exporter": "python",
   "pygments_lexer": "ipython3",
   "version": "3.8.5"
  }
 },
 "nbformat": 4,
 "nbformat_minor": 2
}
