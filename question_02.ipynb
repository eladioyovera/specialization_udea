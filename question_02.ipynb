{
  "cells": [
    {
      "cell_type": "markdown",
      "metadata": {
        "id": "JRdkj-CTJpDA"
      },
      "source": [
        "## **Ejercicio 2** (50 pts)\n",
        "\n",
        "Realice los siguientes ejercicios con numpy\n",
        "\n",
        "1. Resolver el siguiente sistema de ecuaciones. **16 pts**\n",
        "\n",
        "\\begin{equation}\n",
        "\\begin{array}{ccc}\n",
        "2x+3y−z+4w+5v&=&15\\\\\n",
        "x - 2y + 4z - 3w + v &=& 6\\\\\n",
        "3x+2y−3z+5w−2v&=&11 \\\\\n",
        "4x+y−2z+3w+2v&=&8 \\\\\n",
        "x+y+z+w+v&=&7\n",
        "\\end{array}\n",
        "\\end{equation}\n"
      ]
    },
    {
      "cell_type": "markdown",
      "metadata": {
        "id": "BRLuanQjLFOy"
      },
      "source": [
        "#### Solucion"
      ]
    },
    {
      "cell_type": "markdown",
      "metadata": {
        "id": "yZ7LtEAhLmdL"
      },
      "source": [
        "Se extraen todos los coeficientes del sistema de ecuaciones  para dejar la siguiente matriz\n",
        "\n",
        "\\begin{pmatrix}\n",
        "2 & 3 & -1 &4 & 5 &|& 15 \\\\\n",
        "1 & -2&4&-3&1 &|& 6\\\\\n",
        "3&2&−3&5&−2&|&11 \\\\\n",
        "4&1&−2&3&2&|&8 \\\\\n",
        "1&1&1&1&1&|&7\n",
        "\\end{pmatrix}"
      ]
    },
    {
      "cell_type": "code",
      "execution_count": 1,
      "metadata": {
        "id": "AGKnIygkNXxQ"
      },
      "outputs": [],
      "source": [
        "# Se importa el paquete NumPy\n",
        "import numpy as np"
      ]
    },
    {
      "cell_type": "code",
      "execution_count": 2,
      "metadata": {
        "colab": {
          "base_uri": "https://localhost:8080/"
        },
        "id": "GyOSYQ15LNkc",
        "outputId": "6f5ed15c-6cb1-4a59-c264-0e7794dbb8f5"
      },
      "outputs": [
        {
          "name": "stdout",
          "output_type": "stream",
          "text": [
            "[[ 2  3 -1  4  5]\n",
            " [ 1 -2  4 -3  1]\n",
            " [ 3  2 -3  5 -2]\n",
            " [ 4  1 -2  3  2]\n",
            " [ 1  1  1  1  1]]\n",
            "[[ 2  3 -1  4  5]\n",
            " [ 1 -2  4 -3  1]\n",
            " [ 3  2 -3  5 -2]\n",
            " [ 4  1 -2  3  2]\n",
            " [ 1  1  1  1  1]]\n"
          ]
        }
      ],
      "source": [
        "# se contruye la matriz en Python\n",
        "matriz_a = np.array([\n",
        "    [2,3,-1,4,5],\n",
        "    [1,-2,4,-3,1],\n",
        "    [3,2,-3,5,-2],\n",
        "    [4,1,-2,3,2],\n",
        "    [1,1,1,1,1]\n",
        "])\n",
        "# y tambien el vector respuesta\n",
        "matriz_b = np.array([15,6,11,8,7])\n",
        "\n",
        "# se muestran ambos array para validar.\n",
        "print(matriz_a )\n",
        "print(matriz_a )"
      ]
    },
    {
      "cell_type": "code",
      "execution_count": 3,
      "metadata": {
        "id": "qAFQwVc_3Yty"
      },
      "outputs": [],
      "source": [
        "def resolverSistemaEcuaciones(A:np.array,b:np.array):\n",
        "  \"\"\"\n",
        "  Función que recibe la matriz cuadrada A y el vector de resultado b y retorna la solución al sistema de ecuacines\n",
        "\n",
        "  A: Es la matriz cuadradrada n x n\n",
        "  b: es el vector de resultados 1xn\n",
        "\n",
        "  ambis argumentos deben ser de tipo Array del paquete numpy (numpy.array)\n",
        "  Ex:\n",
        "    In[0]: A:[[2, 3,-1],\n",
        "              [4,-2, 3],\n",
        "              [1, 1, 2]]\n",
        "           b: [8,-1,10]\n",
        "    Out[0]: Las soluciones al sistema de ecuaciones es (2, 2,3)\n",
        "  \"\"\"\n",
        "  # primero se convierte las entrdas en tipo flotatne para su operación,\n",
        "  # ya que si se dejan en su tipo orignal pueden haber errores de calculo por ser entero\n",
        "  A = A.astype(float)\n",
        "  b = b.astype(float)\n",
        "  #se comprueba que los array ingresados cumplan con la única condicion descrita anteriormente para su ejecución\n",
        "  if(A.shape[0]==b.shape[0] and  A.shape[0]== A.shape[1]):\n",
        "    # Se una la matriz completa.\n",
        "    matriz_completa = np.column_stack((A, b))\n",
        "    matriz_completa.astype(float)\n",
        "    ##print(matriz_completa)\n",
        "    ##print(\"========================\\n========================\")\n",
        "    # se tiene la cantidad de filas/variables para resolver\n",
        "    dim_matriz = len(matriz_completa)\n",
        "\n",
        "\n",
        "    # se hace un ciclo por cada fila para volverla una matriz identidad\n",
        "    for i in range(dim_matriz):\n",
        "      # se escoge el numero pivot actual de la fila i\n",
        "      pivot_i = matriz_completa[i,i]\n",
        "\n",
        "      #se transforma fila i para que el pivot quede 1.\n",
        "      matriz_completa[i] = matriz_completa[i] * (1/pivot_i)\n",
        "\n",
        "      #print(matriz_completa[i] * (1/pivot_i))\n",
        "      #Se crea un bucle interno para convertir toda la matriz triangualar inferior en 0\n",
        "      for j in range(i+1,dim_matriz):\n",
        "\n",
        "        #se toma el valor i,j de la matriz_completa que se llamará factor\n",
        "        factor_fila_j = matriz_completa[j,i]\n",
        "\n",
        "        matriz_completa[j] -=  matriz_completa[i] * factor_fila_j\n",
        "        #se multiplica toda la fila i matriz por este facor y se resta a si misma\n",
        "        #print(matriz_completa)\n",
        "\n",
        "      #print(\"=======================\")\n",
        "      # y se hace el último ciclo para convertir toda la matriz triangular superior en 0\n",
        "      for k in range(i):\n",
        "        factor_fila_k = matriz_completa[k,i]\n",
        "\n",
        "        matriz_completa[k] -= matriz_completa[i] * factor_fila_k\n",
        "        #print(matriz_completa)\n",
        "\n",
        "    #se obtiene el siguiente resultado\n",
        "    resultado = matriz_completa[:,-1]\n",
        "    # se pone en las columnas -1 para solo exportar la última columna de la matriz que contiene los resultados del sistema de ecaciones\n",
        "    #print(matriz_completa)\n",
        "\n",
        "    print(\"La solución al sistema de ecuaciones es:\")\n",
        "    print(resultado)\n",
        "    return resultado\n",
        "  else:\n",
        "    print(\"La matrices ingresadas no cuentan con la condinción para su resolución\\n la matriz A debe ser nxn y el vector b debe ser 1xn\")\n",
        "    return None\n",
        "\n"
      ]
    },
    {
      "cell_type": "code",
      "execution_count": 4,
      "metadata": {
        "colab": {
          "base_uri": "https://localhost:8080/"
        },
        "id": "UZ5ly0x08_q4",
        "outputId": "b9d8ad65-8ebb-4f5d-c4db-23641cb474dd"
      },
      "outputs": [
        {
          "name": "stdout",
          "output_type": "stream",
          "text": [
            "La solución al sistema de ecuaciones es:\n",
            "[-1.67741935 -7.87096774  5.12903226 10.          1.41935484]\n"
          ]
        },
        {
          "data": {
            "text/plain": [
              "-1.6774193548387097"
            ]
          },
          "execution_count": 4,
          "metadata": {},
          "output_type": "execute_result"
        }
      ],
      "source": [
        "resolverSistemaEcuaciones(matriz_a,matriz_b)\n",
        "-52/31"
      ]
    },
    {
      "cell_type": "markdown",
      "metadata": {},
      "source": [
        "**2. Calcule el valor del número de Euler o constante de Napier $e = 2,71828$ como:**\n",
        "\n",
        "$$e = \\sum_i ^{\\infty} \\frac{1}{n!}$$\n",
        "\n",
        "  ¿Qué precisión en términos de el número de términos necesita para dar cuenta de los primeros 5 números de la coma decimal? **18 pts**"
      ]
    },
    {
      "cell_type": "markdown",
      "metadata": {},
      "source": [
        "#### Solucion "
      ]
    },
    {
      "cell_type": "code",
      "execution_count": 5,
      "metadata": {},
      "outputs": [
        {
          "name": "stdout",
          "output_type": "stream",
          "text": [
            "el valor de euler calculado es: 2.7182815255731922\n",
            "el numero de terminos que se necesita para dar cuenta de los primeros 5 números de la coma desimal es: 9\n"
          ]
        }
      ],
      "source": [
        "import numpy as np\n",
        "\n",
        "euler_solicitado = 2.71828 # Valor número euler solicitado\n",
        "\n",
        "# La siguiente función tiene como objeto hacer el caculo del factorial (!) de un número, mediante numpy.\n",
        "# se logra calculando el producto de todos los valores de un vector iniciado en 1 hasta el valor que se desea calcular.\n",
        "\n",
        "def factorial(z): #calculo factorial\n",
        "    return np.prod(np.arange(1, z + 1))\n",
        "\n",
        "# La siguiente función tiene como objeto calcular el valor de la sumatoria de (1/n), se deja dentro de un vector usando cumsum en lugar de sum, con el fin de poder usar\n",
        "# argmax para poder calcular el valor minimo de \"n\" en lugar de un condicional.\n",
        "def prueba(m):\n",
        "   vector = np.arange(m +1) # creación del vector de valores que tomará \"n\" en la sumatoría (inicia en cero hasta el valor a calcular)\n",
        "   vector_factorial = np.vectorize(factorial)(vector) # vector de valores de \"n!\"\n",
        "   vector_factorial_inverso = (1 / vector_factorial) # vector de valores dde \"1/n!\"\n",
        "   return np.cumsum(vector_factorial_inverso) # vector de valoers de \"sumatirias de \"1/n!\"\"\n",
        "\n",
        "k = np.argmax(prueba(20) > euler_solicitado) # Dado que es una sumatoria, una vez superado el valor de Euler solicitado se cumple con la condición dada por el ejercicio,\n",
        "#así pues el valor máximo del vector que cumple la condición es el valor solicitado. Por otro lado se asume que “20” es un valor “infinito”\n",
        "\n",
        "p = prueba(k)[-1] # valor de euler calculado, se entiende que es último número del vector k\n",
        "\n",
        "\n",
        "print (\"el valor de euler calculado es:\", p) # se imprime el resultado del valor de euler calculado\n",
        "print (\"el numero de terminos que se necesita para dar cuenta de los primeros 5 números de la coma desimal es:\", k) # se imprime el resultado del numero mínimo de terminos\n"
      ]
    },
    {
      "cell_type": "markdown",
      "metadata": {
        "id": "rYW527ncYIRi"
      },
      "source": [
        "\n",
        "**3. Encuentre los auto valores de la matriz.**\n",
        "\n",
        "$$\n",
        "\\begin{pmatrix}\n",
        "2 & 1 & 1 \\\\\n",
        "4 & 3 & 2 \\\\\n",
        "1 & 1 & 2 \\\\\n",
        "\\end{pmatrix}\n",
        "$$\n"
      ]
    },
    {
      "cell_type": "markdown",
      "metadata": {
        "id": "CANfSDPbYbA8"
      },
      "source": [
        "#### Solucion"
      ]
    },
    {
      "cell_type": "markdown",
      "metadata": {
        "id": "jMBT1KX2Yqyz"
      },
      "source": [
        "Tenga en cuenta que para hallar los autovalores para la matriz (que llamaremos $A$), se debe cumplir que:\n",
        "- $A$ debe ser una matriz cuadra de $n \\times n$\n",
        "\n"
      ]
    },
    {
      "cell_type": "code",
      "execution_count": null,
      "metadata": {
        "colab": {
          "base_uri": "https://localhost:8080/"
        },
        "id": "Z31ZLRDDZYGO",
        "outputId": "477c94ac-a51c-4b84-a941-78c3bf831050"
      },
      "outputs": [
        {
          "name": "stdout",
          "output_type": "stream",
          "text": [
            "[[2 1 1]\n",
            " [4 3 2]\n",
            " [1 1 2]]\n"
          ]
        }
      ],
      "source": [
        "# transcribimos la matriz A en python\n",
        "A = np.array(\n",
        "    [\n",
        "        [2,1,1],\n",
        "        [4,3,2],\n",
        "        [1,1,2]\n",
        "    ]\n",
        ")\n",
        "print(A)"
      ]
    },
    {
      "cell_type": "code",
      "execution_count": null,
      "metadata": {
        "colab": {
          "base_uri": "https://localhost:8080/"
        },
        "id": "qZE0fQJEfO2w",
        "outputId": "ee9557a3-8c44-44de-df88-cb80714c26dc"
      },
      "outputs": [
        {
          "name": "stdout",
          "output_type": "stream",
          "text": [
            "Autovalor dominante: 5.4494879924790895\n",
            "Autovector asociado: [0.35355347 0.86602515 0.35355392]\n"
          ]
        }
      ],
      "source": [
        "import numpy as np\n",
        "\n",
        "def metodo_potencia(A, num_iteraciones=1000, minimo_e=1e-6):\n",
        "  \"\"\"\n",
        "    Función que recibe la matriz cuadrada A y como resultado se obtiene los autovalores de la matriz A\n",
        "\n",
        "    A: Es la matriz cuadradrada n x n\n",
        "    num_iteraciones: Cantidad de iteraciones para ejecutar el método\n",
        "    minimo_e: error nínimo admitido\n",
        "\n",
        "    Ex:\n",
        "      In[0]: A = np.array([[0.5, 0.5], [0.2, 0.8]]),\n",
        "           n = 10\n",
        "      Out[0]: los autovalores son: array([0.70710403, 0.70710954])\n",
        "  \"\"\"\n",
        "\n",
        "  # Elegir un vector inicial aleatorio\n",
        "  vector_aleatorio = np.random.rand(A.shape[0])\n",
        "\n",
        "    # Iterar hasta converger o alcanzar el número máximo de iteraciones\n",
        "  for iteracion_actual in range(num_iteraciones):\n",
        "\n",
        "        # Multiplicar la matriz por el vector aleatorio\n",
        "        Ax = A.dot(vector_aleatorio)\n",
        "\n",
        "        # Normalizar el vector resultante\n",
        "        vector_nuevo = Ax / np.linalg.norm(Ax)\n",
        "\n",
        "        # Calcular el autovalor aproximado\n",
        "        autovalor = vector_nuevo.dot(Ax)\n",
        "\n",
        "        # Comprobar la convergencia\n",
        "        if np.linalg.norm(vector_nuevo - vector_aleatorio) < minimo_e:\n",
        "            break\n",
        "\n",
        "        vector_aleatorio = vector_nuevo\n",
        "\n",
        "  print(\"Autovalor dominante:\", autovalor)\n",
        "  print(\"Autovector asociado:\", autovector)\n",
        "  return autovalor, vector_aleatorio\n",
        "\n",
        "# Calcular el autovalor dominante y su autovector aproximado\n",
        "autovalor, autovector = metodo_potencia(A)"
      ]
    }
  ],
  "metadata": {
    "colab": {
      "provenance": []
    },
    "kernelspec": {
      "display_name": "Python 3",
      "name": "python3"
    },
    "language_info": {
      "codemirror_mode": {
        "name": "ipython",
        "version": 3
      },
      "file_extension": ".py",
      "mimetype": "text/x-python",
      "name": "python",
      "nbconvert_exporter": "python",
      "pygments_lexer": "ipython3",
      "version": "3.8.5"
    }
  },
  "nbformat": 4,
  "nbformat_minor": 0
}
